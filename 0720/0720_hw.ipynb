{
 "cells": [
  {
   "cell_type": "code",
   "execution_count": null,
   "id": "67b537af",
   "metadata": {},
   "outputs": [],
   "source": [
    "1. Mutable & Immutable\n",
    "주어진 컨테이너들을 각각 변경 가능한 것(mutable)과 변경 불가능한 것(immutable)으로\n",
    "분류하시오."
   ]
  },
  {
   "cell_type": "code",
   "execution_count": null,
   "id": "fcaa9fd4",
   "metadata": {},
   "outputs": [],
   "source": [
    "immutable: String, Tuple, Range\n",
    "mutable : List, Set, Dictionary"
   ]
  },
  {
   "cell_type": "code",
   "execution_count": null,
   "id": "9e089867",
   "metadata": {},
   "outputs": [],
   "source": []
  },
  {
   "cell_type": "code",
   "execution_count": null,
   "id": "14459abb",
   "metadata": {},
   "outputs": [],
   "source": [
    "2. 홀수만 담기\n",
    "range와 slicing을 활용하여 1부터 50까지의 숫자 중, 홀수로만 이루어진 리스트를\n",
    "만드시오."
   ]
  },
  {
   "cell_type": "code",
   "execution_count": 1,
   "id": "dfa265e6",
   "metadata": {},
   "outputs": [
    {
     "name": "stdout",
     "output_type": "stream",
     "text": [
      "[1, 3, 5, 7, 9, 11, 13, 15, 17, 19, 21, 23, 25, 27, 29, 31, 33, 35, 37, 39, 41, 43, 45, 47, 49]\n"
     ]
    }
   ],
   "source": [
    "l = list(range(1, 51, 2))\n",
    "print(l)"
   ]
  },
  {
   "cell_type": "code",
   "execution_count": null,
   "id": "6dbc1fdf",
   "metadata": {},
   "outputs": [],
   "source": []
  },
  {
   "cell_type": "code",
   "execution_count": null,
   "id": "3e22e23c",
   "metadata": {},
   "outputs": [],
   "source": [
    "3. Dictionary 만들기\n",
    "반 학생들의 정보를 이용하여 key는 이름, value는 나이인 dictionary를 만드시오."
   ]
  },
  {
   "cell_type": "code",
   "execution_count": 3,
   "id": "0b79beb9",
   "metadata": {},
   "outputs": [
    {
     "data": {
      "text/plain": [
       "dict_keys(['손형선', '서민기', '손영배', '안재영', '이기진'])"
      ]
     },
     "execution_count": 3,
     "metadata": {},
     "output_type": "execute_result"
    }
   ],
   "source": [
    "students = {'손형선': 27, '서민기': 27, '손영배': 30, '안재영': 28, '이기진': 27}"
   ]
  },
  {
   "cell_type": "code",
   "execution_count": null,
   "id": "a5403411",
   "metadata": {},
   "outputs": [],
   "source": []
  },
  {
   "cell_type": "code",
   "execution_count": null,
   "id": "9f9c160a",
   "metadata": {},
   "outputs": [],
   "source": [
    "4. 반복문으로 네모 출력\n",
    "두 개의 정수 n과 m이 주어졌을 때, 가로의 길이가 n, 세로의 길이가 m인 직사각형 형태를\n",
    "별(*) 문자를 이용하여 출력하시오. 단, 반복문을 사용하여 작성하시오"
   ]
  },
  {
   "cell_type": "code",
   "execution_count": 4,
   "id": "cd980ccb",
   "metadata": {},
   "outputs": [
    {
     "name": "stdout",
     "output_type": "stream",
     "text": [
      "*****\n",
      "*****\n",
      "*****\n",
      "*****\n",
      "*****\n",
      "*****\n",
      "*****\n",
      "*****\n",
      "*****\n"
     ]
    }
   ],
   "source": [
    "n = 5\n",
    "m = 9\n",
    "\n",
    "for i in range(m):\n",
    "    print('*' * n)"
   ]
  },
  {
   "cell_type": "code",
   "execution_count": null,
   "id": "04c8f891",
   "metadata": {},
   "outputs": [],
   "source": []
  },
  {
   "cell_type": "code",
   "execution_count": null,
   "id": "92a05b38",
   "metadata": {},
   "outputs": [],
   "source": [
    "5. 조건 표현식\n",
    "주어진 코드의 조건문을 조건 표현식으로 바꾸어 작성하시오."
   ]
  },
  {
   "cell_type": "code",
   "execution_count": 5,
   "id": "11efcd70",
   "metadata": {
    "scrolled": true
   },
   "outputs": [
    {
     "name": "stdout",
     "output_type": "stream",
     "text": [
      "입실 가능\n"
     ]
    }
   ],
   "source": [
    "temp = 36.5\n",
    "print('입실 불가') if temp >=37.5 else print('입실 가능')"
   ]
  },
  {
   "cell_type": "code",
   "execution_count": null,
   "id": "ced3bee7",
   "metadata": {},
   "outputs": [],
   "source": []
  },
  {
   "cell_type": "code",
   "execution_count": null,
   "id": "8b4f0d4b",
   "metadata": {},
   "outputs": [],
   "source": [
    "6. 평균 구하기\n",
    "주어진 list에 담긴 숫자들의 평균값을 출력하시오."
   ]
  },
  {
   "cell_type": "code",
   "execution_count": 7,
   "id": "42f204df",
   "metadata": {},
   "outputs": [
    {
     "name": "stdout",
     "output_type": "stream",
     "text": [
      "87.75\n"
     ]
    }
   ],
   "source": [
    "scores = [80, 89, 99, 83]\n",
    "print( round( sum(scores)/len(scores), 2 ) )"
   ]
  }
 ],
 "metadata": {
  "kernelspec": {
   "display_name": "Python 3 (ipykernel)",
   "language": "python",
   "name": "python3"
  },
  "language_info": {
   "codemirror_mode": {
    "name": "ipython",
    "version": 3
   },
   "file_extension": ".py",
   "mimetype": "text/x-python",
   "name": "python",
   "nbconvert_exporter": "python",
   "pygments_lexer": "ipython3",
   "version": "3.9.6"
  }
 },
 "nbformat": 4,
 "nbformat_minor": 5
}
