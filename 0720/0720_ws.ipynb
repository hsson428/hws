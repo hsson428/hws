{
 "cells": [
  {
   "cell_type": "code",
   "execution_count": null,
   "id": "d1c40527",
   "metadata": {},
   "outputs": [],
   "source": [
    "1. 간단한 N의 약수 (SWEA #1933)\n",
    "\n",
    "[제약 사항]\n",
    "N은 1이상 1,000이하의 정수이다. (1 ≤ N ≤ 1,000)\n",
    "[입력]\n",
    "입력으로 정수 N이 주어진다.\n",
    "[출력]\n",
    "정수 N의 모든 약수를 오름차순으로 출력한다.\n",
    "[입력 예시]\n",
    "10\n",
    "[출력 예시]\n",
    "1 2 5 10"
   ]
  },
  {
   "cell_type": "code",
   "execution_count": 1,
   "id": "3a71e58d",
   "metadata": {},
   "outputs": [
    {
     "name": "stdout",
     "output_type": "stream",
     "text": [
      "1부터 1000까지의 정수를 입력하세요10\n",
      "1 2 5 10 "
     ]
    }
   ],
   "source": [
    "N = int(input('1부터 1000까지의 정수를 입력하세요'))\n",
    "l = []\n",
    "for i in range(1, N+1):\n",
    "    if N % i == 0:\n",
    "        l.append(i)\n",
    "for i in l:\n",
    "    print(i, end =' ')"
   ]
  },
  {
   "cell_type": "code",
   "execution_count": null,
   "id": "113a4f9c",
   "metadata": {},
   "outputs": [],
   "source": []
  },
  {
   "cell_type": "code",
   "execution_count": null,
   "id": "871958bf",
   "metadata": {},
   "outputs": [],
   "source": [
    "2. 중간값 찾기 (SWEA #2063 변형)\n",
    "중간값은 통계 집단의 수치를 크기 순으로 배열 했을 때 전체의 중앙에 위치하는 수치를\n",
    "뜻한다. 리스트 numbers에 입력된 숫자에서 중간값을 출력하라.\n",
    "[출력 예시]\n",
    "64"
   ]
  },
  {
   "cell_type": "code",
   "execution_count": 30,
   "id": "07d1a2dd",
   "metadata": {},
   "outputs": [
    {
     "name": "stdout",
     "output_type": "stream",
     "text": [
      "63.5\n"
     ]
    }
   ],
   "source": [
    "numbers = [\n",
    "    85, 72, 38, 80, 69, 65, 68, 96, 22, 49, 67, 51, 61, 63, 87, 66, 24, 80, 83, 71, 60, 64, 52, 90, 60, 49, 31, 23, 99, 94, 11, 25, 24, \n",
    "]\n",
    "length = len(numbers)\n",
    "if length % 2:\n",
    "    print(sorted(numbers)[(len(numbers)-1)//2])\n",
    "else:\n",
    "    print( round( ( ( sorted(numbers)[length//2] + sorted(numbers)[length//2-1] ) / 2 ), 2) )"
   ]
  },
  {
   "cell_type": "code",
   "execution_count": null,
   "id": "c71c2552",
   "metadata": {},
   "outputs": [],
   "source": []
  },
  {
   "cell_type": "code",
   "execution_count": null,
   "id": "bf477a4d",
   "metadata": {},
   "outputs": [],
   "source": [
    "3. 계단 만들기\n",
    "자연수 number를 입력 받아, 아래와 같이 높이가 number인 내려가는 계단을 출력하시오.\n"
   ]
  },
  {
   "cell_type": "code",
   "execution_count": 21,
   "id": "156eef77",
   "metadata": {},
   "outputs": [
    {
     "name": "stdout",
     "output_type": "stream",
     "text": [
      "자연수를 입력하세요:4\n",
      "1 \n",
      "1 2 \n",
      "1 2 3 \n",
      "1 2 3 4 \n"
     ]
    }
   ],
   "source": [
    "number = int(input('자연수를 입력하세요:'))\n",
    "for i in range(number):\n",
    "    for j in range(i+1):\n",
    "        print(j+1, end=' ')\n",
    "    print()"
   ]
  }
 ],
 "metadata": {
  "kernelspec": {
   "display_name": "Python 3 (ipykernel)",
   "language": "python",
   "name": "python3"
  },
  "language_info": {
   "codemirror_mode": {
    "name": "ipython",
    "version": 3
   },
   "file_extension": ".py",
   "mimetype": "text/x-python",
   "name": "python",
   "nbconvert_exporter": "python",
   "pygments_lexer": "ipython3",
   "version": "3.9.6"
  }
 },
 "nbformat": 4,
 "nbformat_minor": 5
}
