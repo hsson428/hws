{
 "cells": [
  {
   "cell_type": "code",
   "execution_count": null,
   "id": "4c292f19",
   "metadata": {},
   "outputs": [],
   "source": [
    "1. 세로로 출력하기"
   ]
  },
  {
   "cell_type": "code",
   "execution_count": 1,
   "id": "74d6cf6c",
   "metadata": {
    "scrolled": true
   },
   "outputs": [
    {
     "name": "stdout",
     "output_type": "stream",
     "text": [
      "10\n",
      "1\n",
      "2\n",
      "3\n",
      "4\n",
      "5\n",
      "6\n",
      "7\n",
      "8\n",
      "9\n",
      "10\n"
     ]
    }
   ],
   "source": [
    "number = int(input('자연수를 입력하세요: '))\n",
    "for i in range(1, number+1):\n",
    "    print(i)"
   ]
  },
  {
   "cell_type": "code",
   "execution_count": null,
   "id": "92c26c5c",
   "metadata": {},
   "outputs": [],
   "source": []
  },
  {
   "cell_type": "code",
   "execution_count": null,
   "id": "49a169bf",
   "metadata": {},
   "outputs": [],
   "source": [
    "2. 거꾸로 세로로 출력하기"
   ]
  },
  {
   "cell_type": "code",
   "execution_count": 8,
   "id": "f3283480",
   "metadata": {},
   "outputs": [
    {
     "name": "stdout",
     "output_type": "stream",
     "text": [
      "자연수를 입력하세요: 5\n",
      "5\n",
      "4\n",
      "3\n",
      "2\n",
      "1\n",
      "0\n"
     ]
    }
   ],
   "source": [
    "number = int(input('자연수를 입력하세요: '))\n",
    "# l = list(range(number, -1, -1))\n",
    "# for i in l:\n",
    "#     print(i)\n",
    "\n",
    "# for i in range(number, -1, -1):\n",
    "#    print(i)\n",
    "\n",
    "for i in range(number+1):\n",
    "    print(number-i)"
   ]
  },
  {
   "cell_type": "code",
   "execution_count": null,
   "id": "5f304440",
   "metadata": {},
   "outputs": [],
   "source": []
  },
  {
   "cell_type": "code",
   "execution_count": null,
   "id": "e492a761",
   "metadata": {},
   "outputs": [],
   "source": [
    "3. N줄 덧셈 (SWEA #2025)"
   ]
  },
  {
   "cell_type": "code",
   "execution_count": 7,
   "id": "460f7350",
   "metadata": {},
   "outputs": [
    {
     "name": "stdout",
     "output_type": "stream",
     "text": [
      "1000이하의 자연수를 입력하세요: 10\n",
      "55\n"
     ]
    }
   ],
   "source": [
    "number = int(input('1000이하의 자연수를 입력하세요: '))\n",
    "print(sum(range(number+1)))"
   ]
  }
 ],
 "metadata": {
  "kernelspec": {
   "display_name": "Python 3 (ipykernel)",
   "language": "python",
   "name": "python3"
  },
  "language_info": {
   "codemirror_mode": {
    "name": "ipython",
    "version": 3
   },
   "file_extension": ".py",
   "mimetype": "text/x-python",
   "name": "python",
   "nbconvert_exporter": "python",
   "pygments_lexer": "ipython3",
   "version": "3.9.6"
  }
 },
 "nbformat": 4,
 "nbformat_minor": 5
}
